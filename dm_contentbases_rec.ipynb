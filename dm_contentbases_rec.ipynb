{
  "nbformat": 4,
  "nbformat_minor": 0,
  "metadata": {
    "colab": {
      "provenance": [],
      "authorship_tag": "ABX9TyPS33qGY4WUxhMgrCRAfECs",
      "include_colab_link": true
    },
    "kernelspec": {
      "name": "python3",
      "display_name": "Python 3"
    },
    "language_info": {
      "name": "python"
    }
  },
  "cells": [
    {
      "cell_type": "markdown",
      "metadata": {
        "id": "view-in-github",
        "colab_type": "text"
      },
      "source": [
        "<a href=\"https://colab.research.google.com/github/Mahmoudreza/Data-Structures-using-Python/blob/master/dm_contentbases_rec.ipynb\" target=\"_parent\"><img src=\"https://colab.research.google.com/assets/colab-badge.svg\" alt=\"Open In Colab\"/></a>"
      ]
    },
    {
      "cell_type": "code",
      "execution_count": 1,
      "metadata": {
        "id": "abPxsLMfQy0t"
      },
      "outputs": [],
      "source": [
        "import pandas as pd\n",
        "import numpy as np\n",
        "from sklearn.metrics.pairwise import cosine_similarity\n",
        "from sklearn.model_selection import train_test_split"
      ]
    },
    {
      "cell_type": "code",
      "source": [
        "books = pd.DataFrame({'Book Title': ['To Kill a Mockingbird', 'Pride and Prejudice', 'The Great Gatsby', '1984', 'Wuthering Heights',\n",
        "                                     'The Catcher in the Rye', 'The Adventures of Huckleberry Finn', 'The Grapes of Wrath', 'One Hundred Years of Solitude', 'Moby-Dick; or, The Whale',\n",
        "                                     'The Odyssey', 'The Iliad', 'The Divine Comedy', 'Heart of Darkness', 'The Picture of Dorian Gray', 'A Tale of Two Cities', 'War and Peace', 'Madame Bovary',\n",
        "                                     'Frankenstein; or, The Modern Prometheus'],\n",
        "                     'Author': ['Harper Lee', 'Jane Austen', 'F. Scott Fitzgerald', 'George Orwell', 'Emily Bronte',\n",
        "                                'J.D. Salinger', 'Mark Twain', 'John Steinbeck', 'Gabriel Garcia Marquez', 'Herman Melville',\n",
        "                                'Homer', 'Homer', 'Dante Alighieri', 'Joseph Conrad', 'Oscar Wilde', 'Charles Dickens', 'Leo Tolstoy', 'Gustave Flaubert',\n",
        "                                'Mary Shelley'],\n",
        "                     'Genre': ['Drama', 'Romance', 'Drama', 'Dystopian', 'Romance',\n",
        "                               'Drama', 'Adventure', 'Drama', 'Magical Realism', 'Adventure',\n",
        "                               'Epic Poetry', 'Epic Poetry', 'Epic Poetry', 'Drama', 'Drama', 'Drama', 'Historical Fiction', 'Drama',\n",
        "                               'Horror'],\n",
        "                     'User 1 Rating': [4.0, 3.5, 4.5, 5.0, 4.0, 4.5, 3.5, 4.0, 5.0, 4.0, 4.5, 5.0, 4.5, 4.0, 4.5, 5.0, 4.0, 4.5, 4.0],\n",
        "                     'User 2 Rating': [5.0, 4.0, 3.0, 5.0, 3.0, 5.0, 4.0, 4.5, 4.0, 3.5, 5.0, 4.0, 4.5, 4.0, 4.0, 4.0, 4.5, 4.0, 4.0],\n",
        "                     'User 3 Rating': [4.5, 4.5, 3.5, 4.0, 3.5, 4.0, 4.5, 3.0, 4.0, 3.0, 4.5, 4.5, 4.0, 3.5, 3.5, 4.0, 4.0, 3.5, 4.0]})\n"
      ],
      "metadata": {
        "id": "_mENYhIkQ3ao"
      },
      "execution_count": 2,
      "outputs": []
    },
    {
      "cell_type": "code",
      "source": [
        "pivot_table = books.pivot_table(index='Book Title', values=['User 1 Rating', 'User 2 Rating', 'User 3 Rating'])\n"
      ],
      "metadata": {
        "id": "W28ixJAOQ6JN"
      },
      "execution_count": 3,
      "outputs": []
    },
    {
      "cell_type": "code",
      "source": [
        "pivot_table = pivot_table.fillna(0)\n",
        "matrix = pivot_table.to_numpy()\n"
      ],
      "metadata": {
        "id": "7hytPQXsQ8tR"
      },
      "execution_count": 6,
      "outputs": []
    },
    {
      "cell_type": "code",
      "source": [
        "cosine_sim = cosine_similarity(matrix, matrix)\n",
        "cosine_sim"
      ],
      "metadata": {
        "colab": {
          "base_uri": "https://localhost:8080/"
        },
        "id": "51t4eg1HTTpl",
        "outputId": "17fc38e8-94f1-4b54-b867-1b65eb0957c2"
      },
      "execution_count": 8,
      "outputs": [
        {
          "output_type": "execute_result",
          "data": {
            "text/plain": [
              "array([[1.        , 0.99453584, 0.99493668, 0.99922929, 0.9986323 ,\n",
              "        0.99832074, 0.99453584, 0.9809574 , 0.9809574 , 0.99873142,\n",
              "        0.99892675, 0.99727571, 0.98403651, 0.99086739, 0.99620492,\n",
              "        0.9986323 , 0.99086739, 0.99618673, 0.98823669],\n",
              "       [0.99453584, 1.        , 0.99413485, 0.99557949, 0.99850675,\n",
              "        0.99829125, 1.        , 0.97948758, 0.97948758, 0.99006884,\n",
              "        0.99560437, 0.98451715, 0.99719539, 0.99853097, 0.99014158,\n",
              "        0.99850675, 0.98160671, 0.98949404, 0.99829125],\n",
              "       [0.99493668, 0.99413485, 1.        , 0.99811498, 0.99483201,\n",
              "        0.99326592, 0.99413485, 0.99483201, 0.99483201, 0.99591   ,\n",
              "        0.99852398, 0.98702447, 0.98584357, 0.99591   , 0.99872693,\n",
              "        0.99483201, 0.99591   , 0.99840383, 0.99326592],\n",
              "       [0.99922929, 0.99557949, 0.99811498, 1.        , 0.99835324,\n",
              "        0.99755132, 0.99557949, 0.98756023, 0.98756023, 0.99883479,\n",
              "        0.999975  , 0.99447548, 0.98592988, 0.9940327 , 0.9983922 ,\n",
              "        0.99835324, 0.9940327 , 0.9982549 , 0.99139359],\n",
              "       [0.9986323 , 0.99850675, 0.99483201, 0.99835324, 1.        ,\n",
              "        0.99989621, 0.99850675, 0.97938144, 0.97938144, 0.99535001,\n",
              "        0.99813941, 0.99259662, 0.99189361, 0.99535001, 0.99356551,\n",
              "        1.        , 0.98617628, 0.99324409, 0.99401447],\n",
              "       [0.99832074, 0.99829125, 0.99326592, 0.99755132, 0.99989621,\n",
              "        1.        , 0.99829125, 0.97636924, 0.97636924, 0.99443734,\n",
              "        0.99724929, 0.99255637, 0.99192177, 0.99443734, 0.99200141,\n",
              "        0.99989621, 0.98396958, 0.9916805 , 0.99328859],\n",
              "       [0.99453584, 1.        , 0.99413485, 0.99557949, 0.99850675,\n",
              "        0.99829125, 1.        , 0.97948758, 0.97948758, 0.99006884,\n",
              "        0.99560437, 0.98451715, 0.99719539, 0.99853097, 0.99014158,\n",
              "        0.99850675, 0.98160671, 0.98949404, 0.99829125],\n",
              "       [0.9809574 , 0.97948758, 0.99483201, 0.98756023, 0.97938144,\n",
              "        0.97636924, 0.97948758, 1.        , 1.        , 0.98617628,\n",
              "        0.98858783, 0.97125046, 0.96960387, 0.98617628, 0.99356551,\n",
              "        0.97938144, 0.99535001, 0.99324409, 0.98225098],\n",
              "       [0.9809574 , 0.97948758, 0.99483201, 0.98756023, 0.97938144,\n",
              "        0.97636924, 0.97948758, 1.        , 1.        , 0.98617628,\n",
              "        0.98858783, 0.97125046, 0.96960387, 0.98617628, 0.99356551,\n",
              "        0.97938144, 0.99535001, 0.99324409, 0.98225098],\n",
              "       [0.99873142, 0.99006884, 0.99591   , 0.99883479, 0.99535001,\n",
              "        0.99443734, 0.99006884, 0.98617628, 0.98617628, 1.        ,\n",
              "        0.99868977, 0.99723374, 0.97685283, 0.9877551 , 0.99858913,\n",
              "        0.99535001, 0.99591837, 0.99873956, 0.98396958],\n",
              "       [0.99892675, 0.99560437, 0.99852398, 0.999975  , 0.99813941,\n",
              "        0.99724929, 0.99560437, 0.98858783, 0.98858783, 0.99868977,\n",
              "        1.        , 0.99380814, 0.98610941, 0.99444002, 0.99862264,\n",
              "        0.99813941, 0.99444002, 0.99846391, 0.99179984],\n",
              "       [0.99727571, 0.98451715, 0.98702447, 0.99447548, 0.99259662,\n",
              "        0.99255637, 0.98451715, 0.97125046, 0.97125046, 0.99723374,\n",
              "        0.99380814, 1.        , 0.96920568, 0.97823881, 0.9918907 ,\n",
              "        0.99259662, 0.98773628, 0.99230431, 0.97428847],\n",
              "       [0.98403651, 0.99719539, 0.98584357, 0.98592988, 0.99189361,\n",
              "        0.99192177, 0.99719539, 0.96960387, 0.96960387, 0.97685283,\n",
              "        0.98610941, 0.96920568, 1.        , 0.99668741, 0.97819509,\n",
              "        0.99189361, 0.96693554, 0.97711167, 0.99828024],\n",
              "       [0.99086739, 0.99853097, 0.99591   , 0.9940327 , 0.99535001,\n",
              "        0.99443734, 0.99853097, 0.98617628, 0.98617628, 0.9877551 ,\n",
              "        0.99444002, 0.97823881, 0.99668741, 1.        , 0.99069514,\n",
              "        0.99535001, 0.98367347, 0.98990116, 0.99967122],\n",
              "       [0.99620492, 0.99014158, 0.99872693, 0.9983922 , 0.99356551,\n",
              "        0.99200141, 0.99014158, 0.99356551, 0.99356551, 0.99858913,\n",
              "        0.99862264, 0.9918907 , 0.97819509, 0.99069514, 1.        ,\n",
              "        0.99356551, 0.99858913, 0.99998174, 0.98694018],\n",
              "       [0.9986323 , 0.99850675, 0.99483201, 0.99835324, 1.        ,\n",
              "        0.99989621, 0.99850675, 0.97938144, 0.97938144, 0.99535001,\n",
              "        0.99813941, 0.99259662, 0.99189361, 0.99535001, 0.99356551,\n",
              "        1.        , 0.98617628, 0.99324409, 0.99401447],\n",
              "       [0.99086739, 0.98160671, 0.99591   , 0.9940327 , 0.98617628,\n",
              "        0.98396958, 0.98160671, 0.99535001, 0.99535001, 0.99591837,\n",
              "        0.99444002, 0.98773628, 0.96693554, 0.98367347, 0.99858913,\n",
              "        0.98617628, 1.        , 0.99873956, 0.9787357 ],\n",
              "       [0.99618673, 0.98949404, 0.99840383, 0.9982549 , 0.99324409,\n",
              "        0.9916805 , 0.98949404, 0.99324409, 0.99324409, 0.99873956,\n",
              "        0.99846391, 0.99230431, 0.97711167, 0.98990116, 0.99998174,\n",
              "        0.99324409, 0.99873956, 1.        , 0.98601375],\n",
              "       [0.98823669, 0.99829125, 0.99326592, 0.99139359, 0.99401447,\n",
              "        0.99328859, 0.99829125, 0.98225098, 0.98225098, 0.98396958,\n",
              "        0.99179984, 0.97428847, 0.99828024, 0.99967122, 0.98694018,\n",
              "        0.99401447, 0.9787357 , 0.98601375, 1.        ]])"
            ]
          },
          "metadata": {},
          "execution_count": 8
        }
      ]
    },
    {
      "cell_type": "code",
      "source": [
        "book_indices = pd.Series(books.index, index=books['Book Title'])\n"
      ],
      "metadata": {
        "id": "etu99dR9TbwR"
      },
      "execution_count": 12,
      "outputs": []
    },
    {
      "cell_type": "code",
      "source": [
        "book_indices['Pride and Prejudice']"
      ],
      "metadata": {
        "colab": {
          "base_uri": "https://localhost:8080/"
        },
        "id": "1V5NiUT5UG2B",
        "outputId": "4a0b4398-bcc7-4ebf-c1b8-97bcbb7efa1a"
      },
      "execution_count": 18,
      "outputs": [
        {
          "output_type": "execute_result",
          "data": {
            "text/plain": [
              "1"
            ]
          },
          "metadata": {},
          "execution_count": 18
        }
      ]
    },
    {
      "cell_type": "code",
      "source": [
        "def get_recommendations(title, book_indices, cosine_sim=cosine_sim):\n",
        "    # get the index of the book\n",
        "    idx = book_indices[title]\n",
        "    # get the cosine similarity scores for the book\n",
        "    sim_scores = list(enumerate(cosine_sim[idx]))\n",
        "    # sort the books based on the cosine similarity scores\n",
        "    sim_scores = sorted(sim_scores, key=lambda x: x[1], reverse=True)\n",
        "    # get the top 10 most similar books\n",
        "    sim_scores = sim_scores[1:11]\n",
        "    # get the indices of the most similar books\n",
        "    book_indices = [i[0] for i in sim_scores]\n",
        "    # return the most similar books\n",
        "    return books['Book Title'].iloc[book_indices], sim_scores"
      ],
      "metadata": {
        "id": "I3Ahi1LKTe2m"
      },
      "execution_count": 25,
      "outputs": []
    },
    {
      "cell_type": "code",
      "source": [
        "train, test = train_test_split(books, test_size=0.2)\n",
        "\n",
        "# use the training data to get recommendations for a book\n",
        "recommendations, sim_scores = get_recommendations('Pride and Prejudice', book_indices, cosine_sim)\n",
        "print(recommendations)\n",
        "print(sim_scores)"
      ],
      "metadata": {
        "colab": {
          "base_uri": "https://localhost:8080/"
        },
        "id": "sO48zGQsTiTo",
        "outputId": "80e2bbe0-61af-447d-9696-842dad2e4ed9"
      },
      "execution_count": 26,
      "outputs": [
        {
          "output_type": "stream",
          "name": "stdout",
          "text": [
            "6          The Adventures of Huckleberry Finn\n",
            "13                          Heart of Darkness\n",
            "4                           Wuthering Heights\n",
            "15                       A Tale of Two Cities\n",
            "5                      The Catcher in the Rye\n",
            "18    Frankenstein; or, The Modern Prometheus\n",
            "12                          The Divine Comedy\n",
            "10                                The Odyssey\n",
            "3                                        1984\n",
            "0                       To Kill a Mockingbird\n",
            "Name: Book Title, dtype: object\n",
            "[(6, 1.0), (13, 0.998530965365327), (4, 0.9985067527134329), (15, 0.9985067527134329), (5, 0.9982912517345668), (18, 0.9982912517345668), (12, 0.9971953906935493), (10, 0.9956043743251828), (3, 0.9955794851491649), (0, 0.9945358423571875)]\n"
          ]
        }
      ]
    }
  ]
}