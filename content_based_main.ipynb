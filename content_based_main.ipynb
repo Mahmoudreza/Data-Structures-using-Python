{
  "nbformat": 4,
  "nbformat_minor": 0,
  "metadata": {
    "colab": {
      "provenance": [],
      "authorship_tag": "ABX9TyPMnz/K3NtBI7UR9n7BgQj6",
      "include_colab_link": true
    },
    "kernelspec": {
      "name": "python3",
      "display_name": "Python 3"
    },
    "language_info": {
      "name": "python"
    }
  },
  "cells": [
    {
      "cell_type": "markdown",
      "metadata": {
        "id": "view-in-github",
        "colab_type": "text"
      },
      "source": [
        "<a href=\"https://colab.research.google.com/github/Mahmoudreza/Data-Structures-using-Python/blob/master/content_based_main.ipynb\" target=\"_parent\"><img src=\"https://colab.research.google.com/assets/colab-badge.svg\" alt=\"Open In Colab\"/></a>"
      ]
    },
    {
      "cell_type": "code",
      "execution_count": null,
      "metadata": {
        "id": "O_JKThHFZJOs"
      },
      "outputs": [],
      "source": []
    },
    {
      "cell_type": "markdown",
      "source": [
        "Here's an example project for a bachelor's student to implement a content-based recommendation system:\n",
        "\n",
        "Problem Statement:\n",
        "Develop a content-based recommendation system for books that suggests books to users based on the books' descriptions, genres, and author information.\n",
        "\n",
        "Dataset:\n",
        "Use the following sample book data for this project:\n",
        "\n",
        "Book\t Author\t Genre \tDescription\n",
        "\n",
        "B1,\tA1,\tG1,\tD1\n",
        "\n",
        "B2,\tA2,\tG2,\tD2\n",
        "\n",
        "B3,\tA1,\tG1,\tD3\n",
        "\n",
        "B4,\tA2,\tG2,\tD4\n",
        "\n",
        "B5,\tA3,\tG3,\tD5\n",
        "\n",
        "B6,\tA3,\tG3,\tD6\n",
        "\n",
        "Steps:\n",
        "\n",
        "Preprocess the book data and create a bag of words representation of the book descriptions.\n",
        "\n",
        "Compute the cosine similarity between the books based on the bag of words representation.\n",
        "\n",
        "Based on the cosine similarity scores, suggest top k most similar books to the user for a given book.\n",
        "\n",
        "Evaluation:\n",
        "\n",
        "To evaluate the performance of the recommendation system, you can use the following metrics:\n",
        "\n",
        "Precision: The number of recommended items that are relevant to the user divided by the number of total recommended items.\n",
        "\n",
        "Recall: The number of recommended items that are relevant to the user divided by the number of all relevant items.\n",
        "\n",
        "This project provides a good starting point for a bachelor's student to learn about content-based recommendation systems."
      ],
      "metadata": {
        "id": "KiP00PAiZP12"
      }
    },
    {
      "cell_type": "code",
      "source": [
        "book_dataset = [    {\"title\": \"The Great Gatsby\", \"genre\": \"Fiction\"},    {\"title\": \"To Kill a Mockingbird\", \"genre\": \"Fiction\"},    {\"title\": \"Pride and Prejudice\", \"genre\": \"Fiction\"},    {\"title\": \"The Hitchhiker's Guide to the Galaxy\", \"genre\": \"Science Fiction\"},    {\"title\": \"The Lord of the Rings\", \"genre\": \"Fantasy\"},    {\"title\": \"The Da Vinci Code\", \"genre\": \"Thriller\"},    {\"title\": \"The Catcher in the Rye\", \"genre\": \"Fiction\"},    {\"title\": \"The Hunger Games\", \"genre\": \"Science Fiction\"},    {\"title\": \"Harry Potter and the Philosopher's Stone\", \"genre\": \"Fantasy\"},    {\"title\": \"The Silence of the Lambs\", \"genre\": \"Thriller\"},]\n"
      ],
      "metadata": {
        "id": "ajYkCFz1Znk4"
      },
      "execution_count": 1,
      "outputs": []
    },
    {
      "cell_type": "markdown",
      "source": [
        "Next, we'll create a matrix of book titles and the genres they belong to using a one-hot encoding approach:"
      ],
      "metadata": {
        "id": "lgsljeHHZw0A"
      }
    },
    {
      "cell_type": "code",
      "source": [
        "import pandas as pd\n",
        "from sklearn.preprocessing import MultiLabelBinarizer\n",
        "\n",
        "# Create a list of book titles\n",
        "book_titles = [book['title'] for book in book_dataset]\n",
        "\n",
        "# Create a list of book genres\n",
        "book_genres = [book['genre'] for book in book_dataset]\n",
        "\n",
        "# One-hot encode the genres\n",
        "mlb = MultiLabelBinarizer()\n",
        "book_genres_encoded = pd.DataFrame(mlb.fit_transform(book_genres), columns=mlb.classes_, index=book_titles)"
      ],
      "metadata": {
        "id": "_kfgZU0NZxiA"
      },
      "execution_count": 2,
      "outputs": []
    },
    {
      "cell_type": "markdown",
      "source": [
        "Next, we'll create a function to recommend books to a user based on the genres they prefer. We'll use cosine similarity to measure the similarity between the books:"
      ],
      "metadata": {
        "id": "GH2gxTn6Z2eR"
      }
    },
    {
      "cell_type": "code",
      "source": [
        "from sklearn.metrics.pairwise import cosine_similarity\n",
        "\n",
        "def recommend_books(title, book_genres_encoded, cosine_sim=cosine_similarity(book_genres_encoded), n=5):\n",
        "    recommended_books = []\n",
        "    indices = pd.Series(book_genres_encoded.index)\n",
        "    idx = indices[indices == title].index[0]\n",
        "    score = list(enumerate(cosine_sim[idx]))\n",
        "    score = sorted(score, key=lambda x: x[1], reverse=True)\n",
        "    score = score[1:n+1]\n",
        "    book_indices = [i[0] for i in score]\n",
        "    for i in book_indices:\n",
        "        recommended_books.append(indices[i])\n",
        "    return recommended_books"
      ],
      "metadata": {
        "id": "Gh8jrNYqZ31g"
      },
      "execution_count": 3,
      "outputs": []
    },
    {
      "cell_type": "markdown",
      "source": [
        "Now, we can use the recommend_books function to recommend books to a user based on their preferred genres. For example, if a user likes The Great Gatsby, we can recommend 5 books with similar genres:\n",
        "\n"
      ],
      "metadata": {
        "id": "-t4IRD7sZ8CR"
      }
    },
    {
      "cell_type": "code",
      "source": [
        "recommend_books(\"The Great Gatsby\", book_genres_encoded)\n"
      ],
      "metadata": {
        "colab": {
          "base_uri": "https://localhost:8080/"
        },
        "id": "UbGizsjLZ8rI",
        "outputId": "8e9f2470-105d-46a9-f89e-9c17dda94033"
      },
      "execution_count": 4,
      "outputs": [
        {
          "output_type": "execute_result",
          "data": {
            "text/plain": [
              "['To Kill a Mockingbird',\n",
              " 'Pride and Prejudice',\n",
              " 'The Catcher in the Rye',\n",
              " \"The Hitchhiker's Guide to the Galaxy\",\n",
              " 'The Hunger Games']"
            ]
          },
          "metadata": {},
          "execution_count": 4
        }
      ]
    }
  ]
}